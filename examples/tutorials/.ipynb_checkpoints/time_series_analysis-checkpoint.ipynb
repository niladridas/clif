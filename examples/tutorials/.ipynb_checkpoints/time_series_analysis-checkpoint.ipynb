{
 "cells": [
  {
   "cell_type": "markdown",
   "metadata": {},
   "source": [
    "# Fourier Analysis of time series data\n",
    "\n",
    "In this tutorial, we will go through a simple example of how to plot the fft power spectrum for xarray time series data. We will use the temperature data as a baseline and look at the time series for a particular pressure elevation. Let's go ahead and process the data as in the previous tutorials. "
   ]
  },
  {
   "cell_type": "code",
   "execution_count": 1,
   "metadata": {},
   "outputs": [],
   "source": [
    "# Location of the data for loading\n",
    "import os\n",
    "import numpy as np\n",
    "DATADIR = os.path.join(os.getenv(\"HOME\"),\"Research/e3sm_data/fingerprint\")\n",
    "DATAFILE = \"Temperature.nc\"\n",
    "WEIGHTFILE=\"lat_lon_weights.nc\"\n",
    "\n",
    "# Load the data from the data directory, using dask to help manage the memory (optional)\n",
    "import xarray\n",
    "data = xarray.open_dataarray(os.path.join(DATADIR, DATAFILE))\n",
    "weights = xarray.open_dataarray(os.path.join(DATADIR, WEIGHTFILE))"
   ]
  },
  {
   "cell_type": "code",
   "execution_count": 22,
   "metadata": {},
   "outputs": [
    {
     "data": {
      "text/plain": [
       "time                 plev    \n",
       "1985-02-01 00:00:00  100000.0   -0.293122\n",
       "                     97500.0    -0.288571\n",
       "                     95000.0    -0.277956\n",
       "                     92500.0    -0.264985\n",
       "                     90000.0    -0.250816\n",
       "                                   ...   \n",
       "1997-01-01 00:00:00  700.0      -0.568212\n",
       "                     500.0      -0.668764\n",
       "                     300.0      -0.749700\n",
       "                     200.0      -0.766757\n",
       "                     100.0      -0.955444\n",
       "Length: 5328, dtype: float64"
      ]
     },
     "execution_count": 22,
     "metadata": {},
     "output_type": "execute_result"
    }
   ],
   "source": [
    "# Let's transform the data\n",
    "import clif.preprocessing as cpp\n",
    "from sklearn.pipeline import Pipeline\n",
    "\n",
    "# Create the transform pipeline\n",
    "transform_pipe = Pipeline(\n",
    "    steps=[\n",
    "        (\"anomaly\", cpp.SeasonalAnomalyTransform()),\n",
    "        (\"marginalize\", cpp.MarginalizeOutTransform(dims=[\"lat\", \"lon\"], lat_lon_weights=weights)),\n",
    "        (\"transpose\", cpp.Transpose(dims=[\"plev\", \"time\"])),\n",
    "    ]\n",
    ")\n",
    "\n",
    "# Get the transformed data\n",
    "data_new = transform_pipe.fit_transform(data)\n",
    "data_new_df = data_new.T.to_pandas() # as pandas data frame"
   ]
  },
  {
   "cell_type": "markdown",
   "metadata": {},
   "source": [
    "Now, let's extract the time_series for a particular pressure elevation to obtain a single time series data array."
   ]
  },
  {
   "cell_type": "code",
   "execution_count": 14,
   "metadata": {},
   "outputs": [
    {
     "ename": "SyntaxError",
     "evalue": "invalid syntax (1084202904.py, line 3)",
     "output_type": "error",
     "traceback": [
      "\u001b[0;36m  File \u001b[0;32m\"/var/folders/kr/jwbd8mk549d2qfy1d_0vmwkw0000gp/T/ipykernel_43768/1084202904.py\"\u001b[0;36m, line \u001b[0;32m3\u001b[0m\n\u001b[0;31m    data_new.T.to_pandas()[plev=15]\u001b[0m\n\u001b[0m                               ^\u001b[0m\n\u001b[0;31mSyntaxError\u001b[0m\u001b[0;31m:\u001b[0m invalid syntax\n"
     ]
    }
   ],
   "source": [
    "time_series_data = data_new.isel(plev=15)\n",
    "time_series_data.shape"
   ]
  },
  {
   "cell_type": "code",
   "execution_count": null,
   "metadata": {},
   "outputs": [],
   "source": [
    "# Let use the Fourier time series analysis class to look more closely at the signal\n",
    "from clif import FourierTimeSeriesAnalysis"
   ]
  },
  {
   "cell_type": "markdown",
   "metadata": {},
   "source": [
    "In order to initiate the class, we just need to give a base unit so that we can automatically determine the sampling frequence, etc. Since the data is monthly for 12 years, if we choose a base unit of 'month', the sampling frequency will be 1 (1 sample per month), and if we choose a base unit of 'year' the sampling frequency will be 12 (12 samples per year). The only difference is in the interpretation of the power spectrum at the end. For the purposes of this experiment, we will choose a base unit of a year. "
   ]
  },
  {
   "cell_type": "code",
   "execution_count": null,
   "metadata": {},
   "outputs": [],
   "source": [
    "# In order to initiate the class, we just need to give a base unit so that we can automatically determine the sampling frequency, etc. \n",
    "fourier = FourierTimeSeriesAnalysis(base_unit=\"year\")\n",
    "\n",
    "# Now we simply fit the time series \n",
    "fourier.fit(data=time_series_data)"
   ]
  },
  {
   "cell_type": "code",
   "execution_count": null,
   "metadata": {},
   "outputs": [],
   "source": [
    "# Let's plot what the signal looks like \n",
    "import matplotlib.pyplot as plt\n",
    "\n",
    "fig1, ax1 = plt.subplots(figsize=[8.5,4])\n",
    "ax1.plot(fourier.t_,time_series_data.values)\n",
    "ax1.set_ylabel(r\"$\\Delta$\" + u\"\\u00b0\" + \"K\")"
   ]
  },
  {
   "cell_type": "code",
   "execution_count": null,
   "metadata": {},
   "outputs": [],
   "source": [
    "#Let's plot the power spectrum in frequency vs power\n",
    "fig2, ax2 = fourier.plot_power_spectrum(xaxis=\"frequency\", logscale=False)\n",
    "#We can also plot the period vs power\n",
    "fig2, ax2 = fourier.plot_power_spectrum(xaxis=\"period\", logscale=False)"
   ]
  },
  {
   "cell_type": "code",
   "execution_count": null,
   "metadata": {},
   "outputs": [],
   "source": [
    "# get frequence/period of maximum value\n",
    "# plt.plot(fourier.period_,fourier.power_)\n",
    "max_index = np.argmax(fourier.power_)\n",
    "max_freq = fourier.freq_[max_index]\n",
    "max_period = fourier.period_[max_index]"
   ]
  },
  {
   "cell_type": "markdown",
   "metadata": {},
   "source": [
    "Finally, we can also filter the signal to get a smoother function without the high frequency modes. "
   ]
  },
  {
   "cell_type": "code",
   "execution_count": null,
   "metadata": {
    "scrolled": true
   },
   "outputs": [],
   "source": [
    "# Remove all frequencies greater than 2 cycles per year\n",
    "y_filtered = fourier.transform(freq_cutoff=9.6/4)\n",
    "fig3, ax3 = plt.subplots(figsize=[8.5,2.0])\n",
    "ax3.plot(fourier.t_, y_filtered, label='filtered')\n",
    "ax3.plot(fourier.t_, time_series_data.values, label='signal')\n",
    "ax3.set_ylabel(r\"$\\Delta$\" + u\"\\u00b0\" + \"K\")\n",
    "ax3.legend()"
   ]
  },
  {
   "cell_type": "code",
   "execution_count": null,
   "metadata": {},
   "outputs": [],
   "source": [
    "# subtract trend from signal\n",
    "# Remove all frequencies greater than 2 cycles per year\n",
    "y_filtered = fourier.transform(period_cutoff=6)\n",
    "y = time_series_data.values.copy()\n",
    "fig4, ax4 = plt.subplots(figsize=[8.5,2.0])\n",
    "ax4.plot(fourier.t_, y - y_filtered)\n",
    "# ax3.plot(fourier.t_, y, label='signal')\n",
    "ax4.set_ylabel(r\"$\\Delta$\" + u\"\\u00b0\" + \"K\")\n",
    "# ax3.legend()"
   ]
  },
  {
   "cell_type": "code",
   "execution_count": null,
   "metadata": {},
   "outputs": [],
   "source": [
    "data = time_series_data.copy()\n",
    "data['time'] = fourier.t_\n",
    "from statsmodels.tsa.seasonal import STL\n",
    "res = STL(data,period=6).fit()\n",
    "res.plot()"
   ]
  },
  {
   "cell_type": "code",
   "execution_count": null,
   "metadata": {},
   "outputs": [],
   "source": [
    "from statsmodels.datasets import co2\n",
    "data = co2.load().data\n",
    "data = data.resample('M').mean().ffill()\n",
    "time_index = data.index\n",
    "y = data.values.flatten()\n",
    "data_ts = xarray.DataArray(y,dims='time',coords={'time':time_index})\n",
    "fourier2 = FourierTimeSeriesAnalysis(base_unit='year')\n",
    "fourier2.fit(data_ts)\n",
    "y_filt = fourier2.transform(freq_cutoff=.5)\n",
    "\n",
    "plt.plot(fourier2.t_,y)\n",
    "plt.plot(fourier2.t_,y_filt)"
   ]
  },
  {
   "cell_type": "code",
   "execution_count": null,
   "metadata": {},
   "outputs": [],
   "source": [
    "from statsmodels.datasets import co2\n",
    "data = co2.load().data\n",
    "data = data.resample('M').mean().ffill()\n",
    "# time_index = data.index\n",
    "# y = data.values.flatten()\n",
    "time_index = fourier.t_\n",
    "y = time_series_data.values\n",
    "y = (y - y.min())/(y.max()-y.min())\n",
    "data_ts = xarray.DataArray(y,dims='time',coords={'time':time_index})\n",
    "x = 2*np.arange(len(time_index))/(len(time_index)-1) - 1\n",
    "X = x.copy()[:,np.newaxis]\n",
    "\n",
    "import tesuract\n",
    "pce_grid = {'order': list(range(1,64)),\n",
    "    'mindex_type': ['total_order'],\n",
    "    'fit_type': ['LassoCV'],\n",
    "    'fit_params': [{'alphas':np.logspace(-8,4,20),'max_iter':1000000,'tol':1.0e-2}]}\n",
    "pce = tesuract.RegressionWrapperCV(\n",
    "    regressor='pce',\n",
    "    reg_params=pce_grid,\n",
    "    n_jobs=-1,\n",
    "    scorer='neg_root_mean_squared_error')\n",
    "pce.fit(X,y)\n",
    "print(\"Hyper-parameter CV PCE score is {0:.3f}\".format(pce.best_score_))"
   ]
  },
  {
   "cell_type": "code",
   "execution_count": null,
   "metadata": {},
   "outputs": [],
   "source": []
  }
 ],
 "metadata": {
  "interpreter": {
   "hash": "4c734070d0f8086afef7e4a35c05f6ed34c39726cc92e82f683886ed5b22b236"
  },
  "kernelspec": {
   "display_name": "Python 3 (ipykernel)",
   "language": "python",
   "name": "python3"
  },
  "language_info": {
   "codemirror_mode": {
    "name": "ipython",
    "version": 3
   },
   "file_extension": ".py",
   "mimetype": "text/x-python",
   "name": "python",
   "nbconvert_exporter": "python",
   "pygments_lexer": "ipython3",
   "version": "3.7.10"
  }
 },
 "nbformat": 4,
 "nbformat_minor": 2
}
