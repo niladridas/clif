{
 "cells": [
  {
   "cell_type": "markdown",
   "metadata": {},
   "source": [
    "# Getting started"
   ]
  },
  {
   "cell_type": "markdown",
   "metadata": {},
   "source": [
    "The repo is now on gitlab-ex. You download from here `https://gitlab-ex.sandia.gov/kchowdh/clif` or simply cloning the repo\n",
    "\n",
    "```\n",
    "git clone git@gitlab-ex.sandia.gov:kchowdh/clif.git\n",
    "```\n",
    "\n",
    "Then, cd into the source folder and install: \n",
    "\n",
    "```\n",
    "cd clif/\n",
    "pip install .\n",
    "```\n",
    "\n",
    "You can also run a suite of regression and unit tests by typing\n",
    "\n",
    "```\n",
    "python -m pytest clif/tests\n",
    "```\n",
    "\n",
    "You can view the full documentation by opening `docs/index.html` in a web browser. "
   ]
  }
 ],
 "metadata": {
  "interpreter": {
   "hash": "4c734070d0f8086afef7e4a35c05f6ed34c39726cc92e82f683886ed5b22b236"
  },
  "kernelspec": {
   "display_name": "Python 3 (ipykernel)",
   "language": "python",
   "name": "python3"
  },
  "language_info": {
   "codemirror_mode": {
    "name": "ipython",
    "version": 3
   },
   "file_extension": ".py",
   "mimetype": "text/x-python",
   "name": "python",
   "nbconvert_exporter": "python",
   "pygments_lexer": "ipython3",
   "version": "3.7.10"
  }
 },
 "nbformat": 4,
 "nbformat_minor": 2
}
